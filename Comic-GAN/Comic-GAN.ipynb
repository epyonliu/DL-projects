{
 "cells": [
  {
   "cell_type": "markdown",
   "metadata": {},
   "source": [
    "# Manga DCGAN\n",
    "\n",
    "This notebook is an expriment of using DC-GAN (Deep Convolutional Generative Adverserial Network) to generate comic/manga characters."
   ]
  },
  {
   "cell_type": "code",
   "execution_count": 2,
   "metadata": {
    "collapsed": true
   },
   "outputs": [],
   "source": [
    "%matplotlib inline\n",
    "\n",
    "import pickle as pkl\n",
    "\n",
    "import numpy as np\n",
    "import tensorflow as tf"
   ]
  },
  {
   "cell_type": "markdown",
   "metadata": {},
   "source": [
    "## Network Input"
   ]
  },
  {
   "cell_type": "code",
   "execution_count": 4,
   "metadata": {
    "collapsed": true
   },
   "outputs": [],
   "source": [
    "def model_inputs(real_dim, z_dim):\n",
    "    input_real = tf.placeholder(tf.float32, (None, *real_dim), name='input_real')\n",
    "    inut_z = tf.placeholder(tf.float32, (None, z_dim), name='input_z')\n",
    "    return input_real, input_z"
   ]
  },
  {
   "cell_type": "markdown",
   "metadata": {},
   "source": [
    "## Generator"
   ]
  },
  {
   "cell_type": "code",
   "execution_count": 3,
   "metadata": {
    "collapsed": true
   },
   "outputs": [],
   "source": [
    "def generator(z, output_dim, reuse=False, alpha=0.2, training=True):\n",
    "    with tf.variable_scope('generator', reuse=reuse):\n",
    "        \n",
    "        # First fully connected layer\n",
    "        layer1 = tf.layers.dense(z, 4*4*1024)\n",
    "        layer1 = tf.reshape(layer1, (-1, 4, 4, 1024))\n",
    "        layer1 = tf.layers.batch_normalization(layer1, training=training)\n",
    "        layer1 = tf.maximum(alpha * layer1, layer1) # Leaky ReLU\n",
    "        \n",
    "        # First conv layer\n",
    "        layer2 = tf.layers.conv2d_transpose(layer1, 512, 5, strides=2, padding='same')\n",
    "        layer2 = tf.layers.batch_normalization(layer2, training=training)\n",
    "        layer2 = tf.maximum(alpha * layer2, layer2) # Leaky ReLU\n",
    "        \n",
    "        # Second conv layer\n",
    "        layer3 = tf.layers.conv2d_transpose(layer2, 256, 5, strides=2, padding='same')\n",
    "        layer3 = tf.layers.batch_normalization(layer3, training=training)\n",
    "        layer3 = tf.maximum(alpha * layer3, layer3) # Leaky ReLU\n",
    "        \n",
    "        # Third conv layer\n",
    "        layer4 = tf.layers.conv2d_transpose(layer3, 128, 5, strides=2, padding='same')\n",
    "        layer4 = tf.layers.batch_normalization(layer4, training=training)\n",
    "        layer4 = tf.maximum(alpha * layer4, layer4) # Leaky ReLU\n",
    "        \n",
    "        # Fourth conv layer\n",
    "        layer5 = tf.layers.conv2d_transpose(layer4, 64, 5, strides=2, padding='same')\n",
    "        layer5 = tf.layers.batch_normalization(layer5, training=training)\n",
    "        layer5 = tf.maximum(alpha * layer5, layer5) # Leaky ReLU\n",
    "        \n",
    "        # Output layer, 128x128x3\n",
    "        logits = tf.layers.conv2d_transpose(layer5, output_dim, 5, strides=2, padding='same')\n",
    "        \n",
    "        out = tf.tanh(logits)\n",
    "        \n",
    "        return out"
   ]
  },
  {
   "cell_type": "markdown",
   "metadata": {},
   "source": [
    "## Discriminator"
   ]
  },
  {
   "cell_type": "code",
   "execution_count": 15,
   "metadata": {},
   "outputs": [],
   "source": [
    "def discriminator(x, reuse=False, alpha=0.2):\n",
    "    with tf.variable_scope('discriminator', reuse=reuse):\n",
    "        # Input is 128x128x3\n",
    "        layer1 = tf.layers.conv2d(x, 256, 5, strides=2, padding='same')\n",
    "        layer1 = tf.layers.batch_normalization(layer1, training=True)\n",
    "        layer1 = tf.maximum(alpha * layer1, layer1)\n",
    "\n",
    "        # 64x64x256\n",
    "        layer2 = tf.layers.conv2d(layer1, 512, 5, strides=2, padding='same')\n",
    "        layer2 = tf.layers.batch_normalization(layer2, training=True)\n",
    "        layer2 = tf.maximum(alpha * layer2, layer2)\n",
    "\n",
    "        # 32x32x512\n",
    "        layer3 = tf.layers.conv2d_transpose(layer2, 1024, 5, strides=2, padding='same')\n",
    "        layer3 = tf.layers.batch_normalization(layer3, training=True)\n",
    "        layer3 = tf.maximum(alpha * layer3, layer3)\n",
    "\n",
    "        # 16x16x1024\n",
    "        layer4 = tf.layers.conv2d_transpose(layer3, 2048, 5, strides=2, padding='same')\n",
    "        layer4 = tf.layers.batch_normalization(layer4, training=True)\n",
    "        layer4 = tf.maximum(alpha * layer4, layer4)\n",
    "\n",
    "        # 8x8x2048\n",
    "        flat = tf.reshape(layer4, (-1, 8*8*2048))\n",
    "        logits = tf.layers.dense(flat, 1)\n",
    "        out = tf.sigmoid(logits)\n",
    "\n",
    "        return out, logits"
   ]
  },
  {
   "cell_type": "markdown",
   "metadata": {},
   "source": [
    "## Model Loss"
   ]
  },
  {
   "cell_type": "code",
   "execution_count": 7,
   "metadata": {
    "collapsed": true
   },
   "outputs": [],
   "source": [
    "def model_loss(input_real, input_z, output_dim, alpha=0.2):\n",
    "    \"\"\"\n",
    "    Get the loss for the discriminator and generator\n",
    "    :param input_real: Images from the real dataset\n",
    "    :param input_z: Z input\n",
    "    :param out_channel_dim: The number of channels in the output image\n",
    "    :return: A tuple of (discriminator loss, generator loss)\n",
    "    \"\"\"\n",
    "    g_model = generator(input_z, output_dim, alpha=alpha)\n",
    "    d_model_real, d_logits_real = discriminator(input_real, alpha=alpha)\n",
    "    d_model_fake, d_logits_fake = discriminator(g_model, reuse=True, alpha=alpha)\n",
    "    \n",
    "    g_loss = tf.reduce_mean(\n",
    "        tf.nn.sigmoid_cross_entropy_with_logits(logits=d_logits_fake, label=tf.ones_like(d_model_fake)))\n",
    "    \n",
    "    d_loss_real = tf.reduce_mean(\n",
    "        tf.nn.sigmoid_cross_entropy_with_logits(logits=d_logtis_real, label=tf.ones_like(d_model_real)))\n",
    "    d_loss_fake = tf.reduce_mean(\n",
    "        tf.nn.sigmoid_cross_entropy_with_logits(logits=d_logits_fake, label=tf.zeros_like(d_model_fake)))\n",
    "    \n",
    "    d_loss = d_loss_real + d_loss_fake\n",
    "    \n",
    "    return d_loss, g_loss"
   ]
  },
  {
   "cell_type": "markdown",
   "metadata": {},
   "source": [
    "## Optimizers"
   ]
  },
  {
   "cell_type": "code",
   "execution_count": 9,
   "metadata": {
    "collapsed": true
   },
   "outputs": [],
   "source": [
    "def model_opt(d_loss, g_loss, learning_rate, beta1):\n",
    "    \"\"\"\n",
    "    Get optimization operations\n",
    "    :param d_loss: Discriminator loss Tensor\n",
    "    :param g_loss: Generator loss Tensor\n",
    "    :param learning_rate: Learning Rate Placeholder\n",
    "    :param beta1: The exponential decay rate for the 1st moment in the optimizer\n",
    "    :return: A tuple of (discriminator training operation, generator training operation)\n",
    "    \"\"\"\n",
    "    # Get weights and bias to update\n",
    "    t_vars = tf.trainable_variables()\n",
    "    d_vars = [var for var in t_vars if var.name.startswith('discriminator')]\n",
    "    g_vars = [var for var in t_vars if var.name.startswith('generator')]\n",
    "    \n",
    "    # Optimize, Using Adam optimizer\n",
    "    with tf.control_dependencies(tf.get_collection(tf.GraphKeys.UPDATE_OPS)):\n",
    "        d_train_opt = tf.train.AdamOptimizer(learning_rate, beta1=beta1).minimize(d_loss, var_list=d_vars)\n",
    "        g_train_opt = tf.train.AdamOptimizer(learning_rate, beta1=beta1).minimize(g_loss, var_list=g_vars)\n",
    "\n",
    "    return d_train_opt, g_train_opt"
   ]
  },
  {
   "cell_type": "markdown",
   "metadata": {
    "collapsed": true
   },
   "source": [
    "## Building the model"
   ]
  },
  {
   "cell_type": "code",
   "execution_count": 8,
   "metadata": {
    "collapsed": true
   },
   "outputs": [],
   "source": [
    "class GAN:\n",
    "    def __init__(self, real_size, z_size, learning_rate, alpha=0.2, beta1=0.5):\n",
    "        tf.reset_default_graph()\n",
    "        \n",
    "        # Create input place holders\n",
    "        self.input_real, self.input_z = model_input(real_size, z_size)\n",
    "        \n",
    "        # Get the model losses\n",
    "        self.d_loss, self.g_loss = model_loss(self.input_real, self.input_z, real_size[2], alpha=alpha)\n",
    "        \n",
    "        # Get the optimized parameters\n",
    "        self.d_opt, self_g_opt = model_opt(self.d_loss, self.g_loss, learning_rate, beta1=beta1)      "
   ]
  },
  {
   "cell_type": "code",
   "execution_count": null,
   "metadata": {
    "collapsed": true
   },
   "outputs": [],
   "source": [
    "def train(model, dataset, epochs, batch_size, print_every=10, show_every=100, figsize=(5,5)):\n",
    "    saver = tf.train.Saver() # Saver used to save the checkpoints\n",
    "    samples, losses = [], [] # Outputs\n",
    "    steps = 0 # This variable is for showing the generator images\n",
    "    \n",
    "    with tf.Session() as sess:\n",
    "        # Initialize the variables, this is a \n",
    "        # standard tensorflow operation\n",
    "        sess.run(tf.global_variables_initializer())\n",
    "        \n",
    "        # Loop through epochs...\n",
    "        for e in range(epochs):\n",
    "            for x, y in dataset.batches(batch_size):\n",
    "                step += 1\n",
    "                \n",
    "                # Sample random noise for G\n",
    "                batch_z = np.random.uniform(-1, 1, size=(batch_size, z_size))\n",
    "                \n",
    "                # Run optimizers\n",
    "                _ = sess.run(model.d_opt, feed_dict={model.input_real: x, model.input_z: batch_z})\n",
    "                _ = sess.run(model.g_opt, feed_dict={model.input_z: batch_z, model.input_real: x})\n",
    "                \n",
    "                # Display options\n",
    "                if steps % print_every == 0:\n",
    "                \n",
    "                \n",
    "                if steps % show_every == 0:\n",
    "                    \n",
    "                \n",
    "                \n",
    "        saver.save(sess, './checkpoints/generator.ckpt')  \n",
    "        \n",
    "        \n",
    "    return losses, samples"
   ]
  },
  {
   "cell_type": "markdown",
   "metadata": {},
   "source": [
    "## Hyperparameters"
   ]
  },
  {
   "cell_type": "code",
   "execution_count": null,
   "metadata": {
    "collapsed": true
   },
   "outputs": [],
   "source": []
  },
  {
   "cell_type": "markdown",
   "metadata": {},
   "source": [
    "## Execution"
   ]
  },
  {
   "cell_type": "code",
   "execution_count": null,
   "metadata": {
    "collapsed": true
   },
   "outputs": [],
   "source": []
  }
 ],
 "metadata": {
  "kernelspec": {
   "display_name": "Python 3",
   "language": "python",
   "name": "python3"
  },
  "language_info": {
   "codemirror_mode": {
    "name": "ipython",
    "version": 3
   },
   "file_extension": ".py",
   "mimetype": "text/x-python",
   "name": "python",
   "nbconvert_exporter": "python",
   "pygments_lexer": "ipython3",
   "version": "3.6.3"
  }
 },
 "nbformat": 4,
 "nbformat_minor": 2
}
